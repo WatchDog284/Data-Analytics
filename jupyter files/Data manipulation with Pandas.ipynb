{
 "cells": [
  {
   "cell_type": "markdown",
   "id": "8bbf3d4c-0188-4e02-a790-1a393231c1a2",
   "metadata": {},
   "source": [
    "# Data manipulation with Pandas"
   ]
  },
  {
   "cell_type": "markdown",
   "id": "4c4f8dd9-8f4d-4a1f-86d9-5fee855acf4d",
   "metadata": {},
   "source": [
    "## DataFrame and Series"
   ]
  },
  {
   "cell_type": "markdown",
   "id": "c5e59fa2-2927-4816-a315-9d274428962c",
   "metadata": {},
   "source": [
    "### Pandas Series"
   ]
  },
  {
   "cell_type": "markdown",
   "id": "6bea5514-064f-471e-af84-87f8ae8ebcfb",
   "metadata": {},
   "source": [
    "#### Creation"
   ]
  },
  {
   "cell_type": "markdown",
   "id": "905fda22-a22c-4989-856a-9b6589747185",
   "metadata": {},
   "source": [
    "You can create a Series from a list, dictionary, or a scalar value."
   ]
  },
  {
   "cell_type": "code",
   "execution_count": 1,
   "id": "b5391313-a672-4d94-b83c-8da566ffe6ed",
   "metadata": {},
   "outputs": [
    {
     "name": "stdout",
     "output_type": "stream",
     "text": [
      "0    1\n",
      "1    3\n",
      "2    5\n",
      "3    7\n",
      "4    9\n",
      "dtype: int64\n",
      "a    1\n",
      "b    3\n",
      "c    5\n",
      "dtype: int64\n",
      "0    5\n",
      "1    5\n",
      "2    5\n",
      "3    5\n",
      "dtype: int64\n"
     ]
    }
   ],
   "source": [
    "import pandas as pd\n",
    "\n",
    "#from a list\n",
    "s1 = pd.Series([1,3,5,7,9])\n",
    "\n",
    "#from a dictionary\n",
    "s2 = pd.Series({'a': 1,'b': 3,'c': 5})\n",
    "\n",
    "#from a scalar value\n",
    "s3 = pd.Series(5, index=[0,1,2,3])\n",
    "\n",
    "print(s1)\n",
    "print(s2)\n",
    "print(s3)"
   ]
  },
  {
   "cell_type": "markdown",
   "id": "0888684e-1c5d-4bcc-944b-3183b6c830f0",
   "metadata": {},
   "source": [
    "#### Operations"
   ]
  },
  {
   "cell_type": "markdown",
   "id": "a7fffefc-a93b-4f78-9e66-6b43e46b1cb3",
   "metadata": {},
   "source": [
    "You can perform operations on Series just like you would with a NumPy array."
   ]
  },
  {
   "cell_type": "code",
   "execution_count": 2,
   "id": "2071a8c5-23b2-4e5b-b4b2-def301b6f182",
   "metadata": {},
   "outputs": [
    {
     "data": {
      "text/plain": [
       "0    11\n",
       "1    22\n",
       "2    33\n",
       "dtype: int64"
      ]
     },
     "execution_count": 2,
     "metadata": {},
     "output_type": "execute_result"
    }
   ],
   "source": [
    "so1 = pd.Series([1,2,3,4,5])\n",
    "so2 = pd.Series([10,20,30,40,50])\n",
    "\n",
    "so3 = so1 + so2\n",
    "\n",
    "#so1[0]\n",
    "#so1[:3]\n",
    "\n",
    "so3[:3]"
   ]
  },
  {
   "cell_type": "markdown",
   "id": "e6295507-b39e-4a36-aecc-68c1fcdb43cf",
   "metadata": {},
   "source": [
    "### Pandas DataFrame"
   ]
  },
  {
   "cell_type": "markdown",
   "id": "b33ef0b0-07ee-4f1a-a0c0-041dc9d727dd",
   "metadata": {},
   "source": [
    "#### Creation"
   ]
  },
  {
   "cell_type": "markdown",
   "id": "da75c46c-a005-4992-a51a-7b541c44a68e",
   "metadata": {},
   "source": [
    "A DataFrame is a 2D labeled data structure with columns of potentially different types. You can create it from dictionaries, lists, or NumPy arrays."
   ]
  },
  {
   "cell_type": "code",
   "execution_count": 9,
   "id": "1b3c0cb1-a166-46b2-966a-82bd80b76007",
   "metadata": {},
   "outputs": [
    {
     "name": "stdout",
     "output_type": "stream",
     "text": [
      "      Name  Age         City\n",
      "0      Ash   25     New York\n",
      "1      Bob   30  Los Angeles\n",
      "2  Charlie   35      Chicago\n",
      "3      Ash   40     New York\n",
      "4      Bob   45  Los Angeles\n"
     ]
    }
   ],
   "source": [
    "data = {\n",
    "    'Name': ['Ash', 'Bob', 'Charlie', 'Ash', 'Bob'],\n",
    "    'Age': [25,30,35,40,45],\n",
    "    'City': ['New York', 'Los Angeles', 'Chicago', 'New York', 'Los Angeles']\n",
    "}\n",
    "\n",
    "df = pd.DataFrame(data)\n",
    "print(df)\n",
    "\n",
    "#print(pd.DataFrame(data))"
   ]
  },
  {
   "cell_type": "markdown",
   "id": "c945b0ff-4887-429c-ae12-16b73a288b35",
   "metadata": {},
   "source": [
    "#### Accessing Data"
   ]
  },
  {
   "cell_type": "markdown",
   "id": "c6f521a8-7480-421f-a04b-ee9e7fbd2123",
   "metadata": {},
   "source": [
    "You can access rows and columns using labels and positions."
   ]
  },
  {
   "cell_type": "code",
   "execution_count": 4,
   "id": "66754254-9ca0-4d6f-88ac-f6bb1fbbc1c1",
   "metadata": {},
   "outputs": [
    {
     "name": "stdout",
     "output_type": "stream",
     "text": [
      "0    25\n",
      "1    30\n",
      "2    35\n",
      "3    40\n",
      "4    45\n",
      "Name: Age, dtype: int64 \n",
      "\n",
      "Name         Ash\n",
      "Age           25\n",
      "City    New York\n",
      "Name: 0, dtype: object \n",
      "\n",
      "Name            Bob\n",
      "Age              30\n",
      "City    Los Angeles\n",
      "Name: 1, dtype: object \n",
      "\n"
     ]
    }
   ],
   "source": [
    "# accessing a column\n",
    "age = df['Age']\n",
    "\n",
    "# accessing rows by label\n",
    "row_1 = df.loc[0]\n",
    "\n",
    "# accessing rows by position\n",
    "row_2 = df.iloc[1]\n",
    "\n",
    "print(age,'\\n')\n",
    "print(row_1,'\\n')\n",
    "print(row_2,'\\n')"
   ]
  },
  {
   "cell_type": "markdown",
   "id": "c6db98e7-9bd0-4af3-a14d-3b2f11474345",
   "metadata": {},
   "source": [
    "#### Adding/Removing Columns"
   ]
  },
  {
   "cell_type": "markdown",
   "id": "cce9147a-ee0e-441e-ae89-af81b32ee780",
   "metadata": {},
   "source": [
    "You can easily add or remove columns in a DataFrame."
   ]
  },
  {
   "cell_type": "code",
   "execution_count": 7,
   "id": "6c819106-bc7d-4a52-9798-a87bf520d317",
   "metadata": {},
   "outputs": [
    {
     "name": "stdout",
     "output_type": "stream",
     "text": [
      "      Name  Age  Salary\n",
      "0      Ash   25   50000\n",
      "1      Bob   30   60000\n",
      "2  Charlie   35   70000\n",
      "3      Ash   40   80000\n",
      "4      Bob   45   90000\n"
     ]
    }
   ],
   "source": [
    "# adding a new column\n",
    "df['Salary']= [50000, 60000, 70000, 80000, 90000]\n",
    "\n",
    "# removing a column\n",
    "df.drop('City', axis=1, inplace=True)\n",
    "\n",
    "print(df)"
   ]
  },
  {
   "cell_type": "markdown",
   "id": "45bdc626-284f-44bc-ba9d-2432b03bec7c",
   "metadata": {},
   "source": [
    "#### Filtering Data"
   ]
  },
  {
   "cell_type": "markdown",
   "id": "6709c0fc-ac91-4329-a9ad-e34bdf8c08c3",
   "metadata": {},
   "source": [
    "You can filter data based on conditions."
   ]
  },
  {
   "cell_type": "code",
   "execution_count": null,
   "id": "13ca86a8-e94f-48b4-af1b-6faefff07b49",
   "metadata": {},
   "outputs": [],
   "source": [
    "# filtering rows where age> 30\n",
    "df_filtered = df[df['Age'] > 30]\n",
    "\n",
    "print(df_filtered)"
   ]
  },
  {
   "cell_type": "markdown",
   "id": "fc9f45f6-0ec6-42dc-9260-8195414fd6a0",
   "metadata": {},
   "source": [
    "#### GroupBy Operations"
   ]
  },
  {
   "cell_type": "markdown",
   "id": "53e70ef6-d5ab-4f8c-b3b2-6de78c597ca7",
   "metadata": {},
   "source": [
    "Grouping data and applying functions is straightforward."
   ]
  },
  {
   "cell_type": "code",
   "execution_count": 12,
   "id": "3992e8b3-32cd-4335-8727-f697a8130a0e",
   "metadata": {},
   "outputs": [
    {
     "name": "stdout",
     "output_type": "stream",
     "text": [
      "              Age\n",
      "City             \n",
      "Chicago      35.0\n",
      "Los Angeles  37.5\n",
      "New York     32.5\n"
     ]
    }
   ],
   "source": [
    "grouped = df.groupby('City').mean(numeric_only=True) # Select only numeric columns and apply the mean function\n",
    "print(grouped)"
   ]
  },
  {
   "cell_type": "markdown",
   "id": "6711c772-db26-401a-8260-31d2d5568619",
   "metadata": {},
   "source": [
    "#### Identifying data types of columns in DataFrame"
   ]
  },
  {
   "cell_type": "markdown",
   "id": "57cfdcd3-ae89-467f-a8c2-73d7da69dd90",
   "metadata": {},
   "source": [
    "You can identify various data types in your DataFrame using the select_dtypes method in pandas. Here are some common data types you might encounter:\n",
    "\n",
    "Number: This includes both integers (int) and floating-point numbers (float).\n",
    "\n",
    "Object: Typically used for strings, but can also include mixed types.\n",
    "\n",
    "Datetime: Timestamps or date-related data (datetime64).\n",
    "\n",
    "Boolean: True/False values (bool).\n",
    "\n",
    "Category: Categorical data, which can be more memory efficient than strings.\n",
    "\n",
    "Timedelta: Differences between two datetimes (timedelta)."
   ]
  },
  {
   "cell_type": "code",
   "execution_count": 14,
   "id": "d41adb08-753c-45e2-9b02-b3a4c348cf38",
   "metadata": {},
   "outputs": [
    {
     "name": "stdout",
     "output_type": "stream",
     "text": [
      "Numeric columns: Index(['Age'], dtype='object')\n",
      "Object columns: Index(['Name', 'City'], dtype='object')\n",
      "Datetime columns: Index([], dtype='object')\n",
      "Boolean columns: Index([], dtype='object')\n",
      "Categorical columns: Index([], dtype='object')\n",
      "Timedelta columns: Index([], dtype='object')\n"
     ]
    }
   ],
   "source": [
    "# Identify numeric columns\n",
    "numeric_columns = df.select_dtypes(include=['number']).columns\n",
    "print(\"Numeric columns:\", numeric_columns)\n",
    "\n",
    "# Identify object columns\n",
    "object_columns = df.select_dtypes(include=['object']).columns\n",
    "print(\"Object columns:\", object_columns)\n",
    "\n",
    "# Identify datetime columns\n",
    "datetime_columns = df.select_dtypes(include=['datetime64']).columns\n",
    "print(\"Datetime columns:\", datetime_columns)\n",
    "\n",
    "# Identify boolean columns\n",
    "boolean_columns = df.select_dtypes(include=['bool']).columns\n",
    "print(\"Boolean columns:\", boolean_columns)\n",
    "\n",
    "# Identify categorical columns\n",
    "categorical_columns = df.select_dtypes(include=['category']).columns\n",
    "print(\"Categorical columns:\", categorical_columns)\n",
    "\n",
    "# Identify timedelta columns\n",
    "timedelta_columns = df.select_dtypes(include=['timedelta']).columns\n",
    "print(\"Timedelta columns:\", timedelta_columns)"
   ]
  },
  {
   "cell_type": "code",
   "execution_count": null,
   "id": "97d92076-c813-46c3-b4bb-b7d902903991",
   "metadata": {},
   "outputs": [],
   "source": []
  }
 ],
 "metadata": {
  "kernelspec": {
   "display_name": "Python 3 (ipykernel)",
   "language": "python",
   "name": "python3"
  },
  "language_info": {
   "codemirror_mode": {
    "name": "ipython",
    "version": 3
   },
   "file_extension": ".py",
   "mimetype": "text/x-python",
   "name": "python",
   "nbconvert_exporter": "python",
   "pygments_lexer": "ipython3",
   "version": "3.12.7"
  }
 },
 "nbformat": 4,
 "nbformat_minor": 5
}
