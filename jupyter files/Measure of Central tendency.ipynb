{
 "cells": [
  {
   "cell_type": "markdown",
   "id": "6da3bff3",
   "metadata": {},
   "source": [
    "# Statistics with Python"
   ]
  },
  {
   "cell_type": "raw",
   "id": "dc4728b5-82d5-4191-80b5-4e7ac93a0126",
   "metadata": {},
   "source": [
    "https://www.geeksforgeeks.org/statistical-functions-python-set-1averages-measure-central-location/"
   ]
  },
  {
   "cell_type": "markdown",
   "id": "8adffcc9",
   "metadata": {},
   "source": [
    "## Measure of Central Tendency"
   ]
  },
  {
   "cell_type": "markdown",
   "id": "a5c1dc6e",
   "metadata": {},
   "source": [
    "### Mean()"
   ]
  },
  {
   "cell_type": "code",
   "execution_count": 5,
   "id": "db2cb7ed",
   "metadata": {},
   "outputs": [
    {
     "name": "stdout",
     "output_type": "stream",
     "text": [
      "The average of list values is :  2\n"
     ]
    }
   ],
   "source": [
    "# Python code to demonstrate the \n",
    "# working of mean() function \n",
    "\n",
    "import statistics\n",
    "\n",
    "li = [1,2,3,4,5,6,7,8]\n",
    "\n",
    "print(\"The average of list values is : \",statistics.mean(li))"
   ]
  },
  {
   "cell_type": "markdown",
   "id": "b0468d2d",
   "metadata": {},
   "source": [
    "### Median()"
   ]
  },
  {
   "cell_type": "code",
   "execution_count": 7,
   "id": "0d2dfc65",
   "metadata": {},
   "outputs": [
    {
     "name": "stdout",
     "output_type": "stream",
     "text": [
      "The median of the values is :  4.5\n"
     ]
    }
   ],
   "source": [
    "# Python code to demonstrate the \n",
    "# working of median() function \n",
    "\n",
    "import statistics\n",
    "\n",
    "li = [1,2,3,4,5,6,7,8]\n",
    "\n",
    "print(\"The median of the values is : \",statistics.median(li))"
   ]
  },
  {
   "cell_type": "markdown",
   "id": "3a1d613b",
   "metadata": {},
   "source": [
    "#### median_low()"
   ]
  },
  {
   "cell_type": "code",
   "execution_count": 8,
   "id": "b625c047",
   "metadata": {},
   "outputs": [
    {
     "name": "stdout",
     "output_type": "stream",
     "text": [
      "The median of the values is :  4\n"
     ]
    }
   ],
   "source": [
    "# Python code to demonstrate the \n",
    "# working of median_low() function \n",
    "\n",
    "import statistics\n",
    "\n",
    "li = [1,2,3,4,5,6,7,8]\n",
    "\n",
    "print(\"The low median of the values is : \",statistics.median_low(li))"
   ]
  },
  {
   "cell_type": "markdown",
   "id": "3eb60745",
   "metadata": {},
   "source": [
    "#### median_high()"
   ]
  },
  {
   "cell_type": "code",
   "execution_count": 10,
   "id": "b4a1e006",
   "metadata": {},
   "outputs": [
    {
     "name": "stdout",
     "output_type": "stream",
     "text": [
      "The median of the values is :  5\n"
     ]
    }
   ],
   "source": [
    "# Python code to demonstrate the \n",
    "# working of median_high() function \n",
    "\n",
    "import statistics\n",
    "\n",
    "li = [1,2,3,4,5,6,7,8]\n",
    "\n",
    "print(\"The high median of the values is : \",statistics.median_high(li))"
   ]
  },
  {
   "cell_type": "markdown",
   "id": "09310456",
   "metadata": {},
   "source": [
    "#### median_grouped()"
   ]
  },
  {
   "cell_type": "code",
   "execution_count": 14,
   "id": "9b82e798",
   "metadata": {},
   "outputs": [
    {
     "name": "stdout",
     "output_type": "stream",
     "text": [
      "The 50th percentile of data is : 4.5\n"
     ]
    }
   ],
   "source": [
    "# Python code to demonstrate the working of \n",
    "# median_grouped() \n",
    "  \n",
    "# importing statistics to handle statistical operations \n",
    "import statistics \n",
    "  \n",
    "# initializing list \n",
    "li = [1,2,3,4,5,6,7,8] \n",
    "  \n",
    "# using median_grouped() to calculate 50th percentile \n",
    "print (\"The 50th percentile of data is : \",end=\"\") \n",
    "print (statistics.median_grouped(li)) "
   ]
  },
  {
   "cell_type": "markdown",
   "id": "242799f7",
   "metadata": {},
   "source": [
    "### Mode()"
   ]
  },
  {
   "cell_type": "code",
   "execution_count": 12,
   "id": "780becc6",
   "metadata": {},
   "outputs": [
    {
     "name": "stdout",
     "output_type": "stream",
     "text": [
      "Mode of data set 1 is 5\n",
      "Mode of data set 2 is 1.3\n",
      "Mode of data set 3 is 1/2\n",
      "Mode of data set 4 is -2\n",
      "Mode of data set 5 is black\n"
     ]
    }
   ],
   "source": [
    "# Python code to demonstrate the \n",
    "# working of mode() function \n",
    "# on a various range of data types \n",
    "\n",
    "# Importing the statistics module \n",
    "from statistics import mode \n",
    "\n",
    "# Importing fractions module as fr \n",
    "# Enables to calculate harmonic_mean of a \n",
    "# set in Fraction \n",
    "from fractions import Fraction as fr \n",
    "\n",
    "# tuple of positive integer numbers \n",
    "data1 = (2, 3, 3, 4, 5, 5, 5, 5, 6, 6, 6, 7) \n",
    "\n",
    "# tuple of a set of floating point values \n",
    "data2 = (2.4, 1.3, 1.3, 1.3, 2.4, 4.6) \n",
    "\n",
    "# tuple of a set of fractional numbers \n",
    "data3 = (fr(1, 2), fr(1, 2), fr(10, 3), fr(2, 3)) \n",
    "\n",
    "# tuple of a set of negative integers \n",
    "data4 = (-1, -2, -2, -2, -7, -7, -9) \n",
    "\n",
    "# tuple of strings \n",
    "data5 = (\"red\", \"blue\", \"black\", \"blue\", \"black\", \"black\", \"brown\") \n",
    "\n",
    "\n",
    "# Printing out the mode of the above data-sets \n",
    "print(\"Mode of data set 1 is % s\" % (mode(data1))) \n",
    "print(\"Mode of data set 2 is % s\" % (mode(data2))) \n",
    "print(\"Mode of data set 3 is % s\" % (mode(data3))) \n",
    "print(\"Mode of data set 4 is % s\" % (mode(data4))) \n",
    "print(\"Mode of data set 5 is % s\" % (mode(data5)))"
   ]
  },
  {
   "cell_type": "code",
   "execution_count": null,
   "id": "7f8c43b0",
   "metadata": {},
   "outputs": [],
   "source": []
  }
 ],
 "metadata": {
  "kernelspec": {
   "display_name": "Python 3 (ipykernel)",
   "language": "python",
   "name": "python3"
  },
  "language_info": {
   "codemirror_mode": {
    "name": "ipython",
    "version": 3
   },
   "file_extension": ".py",
   "mimetype": "text/x-python",
   "name": "python",
   "nbconvert_exporter": "python",
   "pygments_lexer": "ipython3",
   "version": "3.13.2"
  }
 },
 "nbformat": 4,
 "nbformat_minor": 5
}
