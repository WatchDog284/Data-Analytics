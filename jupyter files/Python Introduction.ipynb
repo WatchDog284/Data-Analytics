{
 "cells": [
  {
   "cell_type": "markdown",
   "id": "f02fb5a9-1b4f-4e96-a6f7-5a1ba34436ae",
   "metadata": {},
   "source": [
    "# Python"
   ]
  },
  {
   "cell_type": "markdown",
   "id": "77d19d09-211b-4cb0-a2c5-282d066a1d15",
   "metadata": {},
   "source": [
    "## Basic Syntax"
   ]
  },
  {
   "cell_type": "markdown",
   "id": "d098f28c-e0f6-40b3-b0b8-275b3ae289dd",
   "metadata": {},
   "source": [
    "### Comments"
   ]
  },
  {
   "cell_type": "code",
   "execution_count": null,
   "id": "5dfaa381-b464-4a12-b18d-71899d2f68e3",
   "metadata": {
    "scrolled": true
   },
   "outputs": [],
   "source": [
    "# This is a single line comment\n",
    "\n",
    "'''\n",
    "This is a \n",
    "a multi line comment\n",
    "'''"
   ]
  },
  {
   "cell_type": "markdown",
   "id": "5f8d8dc7-2d35-41dc-96d5-787c99345938",
   "metadata": {},
   "source": [
    "### Variable"
   ]
  },
  {
   "cell_type": "code",
   "execution_count": 5,
   "id": "3deb198d-da5a-4fdf-85f9-58cfb7201c55",
   "metadata": {},
   "outputs": [],
   "source": [
    "x= 10\n",
    "name = \"Ashish\""
   ]
  },
  {
   "cell_type": "markdown",
   "id": "9059a669-0f80-4956-8733-0b9aeeb87b15",
   "metadata": {},
   "source": [
    "### print statement"
   ]
  },
  {
   "cell_type": "code",
   "execution_count": 6,
   "id": "7ef70d60-31cb-4837-9651-8439f3cfda6d",
   "metadata": {},
   "outputs": [
    {
     "name": "stdout",
     "output_type": "stream",
     "text": [
      "hello, Ashish!\n"
     ]
    }
   ],
   "source": [
    "print(\"hello, Ashish!\")"
   ]
  },
  {
   "cell_type": "markdown",
   "id": "6593062a-895b-41c4-9436-469a45cad3f2",
   "metadata": {},
   "source": [
    "### Indentation"
   ]
  },
  {
   "cell_type": "code",
   "execution_count": 10,
   "id": "5cbc2f0c-2069-4289-a6c9-3a16ddc4be7c",
   "metadata": {},
   "outputs": [
    {
     "name": "stdout",
     "output_type": "stream",
     "text": [
      "x is greater than 5\n"
     ]
    }
   ],
   "source": [
    "if x > 5:\n",
    "    print(\"x is greater than 5\")"
   ]
  },
  {
   "cell_type": "markdown",
   "id": "a184c443-f97d-430d-a4df-fba2c0e318ef",
   "metadata": {},
   "source": [
    "## Data Types"
   ]
  },
  {
   "cell_type": "markdown",
   "id": "3c8ad7ea-7d27-4ede-bf0f-ca6fc6cb63ff",
   "metadata": {},
   "source": [
    "### Numbers"
   ]
  },
  {
   "cell_type": "code",
   "execution_count": 11,
   "id": "e864ed4c-3589-4920-90aa-154945ea5f7c",
   "metadata": {},
   "outputs": [],
   "source": [
    "int_num = 10         # integer\n",
    "float_num = 10.5     # floating-point\n",
    "complex_num = 1 + 2j # complex number"
   ]
  },
  {
   "cell_type": "markdown",
   "id": "777bc82c-f7f9-48b4-a5af-c872e17d6c0a",
   "metadata": {},
   "source": [
    "### Strings"
   ]
  },
  {
   "cell_type": "code",
   "execution_count": 12,
   "id": "05c4646f-a07a-4964-9c05-12da2b7e472f",
   "metadata": {},
   "outputs": [],
   "source": [
    "single_quote_str = 'hello'\n",
    "double_quote_str = \"World\"\n",
    "multi_line_str = ''' This is\n",
    "a multi line String'''"
   ]
  },
  {
   "cell_type": "markdown",
   "id": "433a88fb-603c-40eb-ab85-477d23638df6",
   "metadata": {},
   "source": [
    "### Lists"
   ]
  },
  {
   "cell_type": "code",
   "execution_count": 13,
   "id": "e7856fa7-1503-490b-b549-451fa29e36bb",
   "metadata": {},
   "outputs": [],
   "source": [
    "fruits = [\"apple\", \"banana\", \"cherry\"]"
   ]
  },
  {
   "cell_type": "markdown",
   "id": "ae58c7bb-1251-4cb4-8fba-282e5b847bbc",
   "metadata": {},
   "source": [
    "### Tuples"
   ]
  },
  {
   "cell_type": "code",
   "execution_count": 14,
   "id": "05e618ac-5a59-4862-985c-02b727cecb9c",
   "metadata": {},
   "outputs": [],
   "source": [
    "point = (10, 20)"
   ]
  },
  {
   "cell_type": "markdown",
   "id": "d3ecd7c0-0d74-44ae-be89-b8a2c81e1ae0",
   "metadata": {},
   "source": [
    "### Dictionaries"
   ]
  },
  {
   "cell_type": "code",
   "execution_count": 15,
   "id": "d143762b-b429-4e68-a75a-5c102dc41e92",
   "metadata": {},
   "outputs": [],
   "source": [
    "student = {\"name\": \"Ashish\", \"age\": 32, \"courses\": [\"Biology\", \"Mathematics\", \"Computer science\"]}"
   ]
  },
  {
   "cell_type": "markdown",
   "id": "49506c42-a92c-4dff-be63-700fe6d47085",
   "metadata": {},
   "source": [
    "### Sets"
   ]
  },
  {
   "cell_type": "code",
   "execution_count": 16,
   "id": "da60709d-221e-49fe-96cb-6c1269f6a38d",
   "metadata": {},
   "outputs": [],
   "source": [
    "unique_numbers = {1,2,3,4,4,5}"
   ]
  },
  {
   "cell_type": "markdown",
   "id": "e66eb5b3-63b1-428c-80b5-358c0e562533",
   "metadata": {},
   "source": [
    "### Booleans"
   ]
  },
  {
   "cell_type": "code",
   "execution_count": 17,
   "id": "959a9871-11dc-4813-a240-a446c6831672",
   "metadata": {},
   "outputs": [],
   "source": [
    "is_valid = True\n",
    "has_access = False"
   ]
  },
  {
   "cell_type": "markdown",
   "id": "6f66b867-7e7e-4c10-914e-317d2e75e81f",
   "metadata": {},
   "source": [
    "## Example of basic py code"
   ]
  },
  {
   "cell_type": "code",
   "execution_count": 19,
   "id": "f0d506fc-284b-4c64-ac72-e983539ee327",
   "metadata": {},
   "outputs": [
    {
     "name": "stdout",
     "output_type": "stream",
     "text": [
      "Ashish is 32 years old and takes Biology.\n"
     ]
    }
   ],
   "source": [
    "name = \"Ashish\"\n",
    "age = 32\n",
    "courses = [\"Biology\", \"Mathematics\", \"Computer science\"]\n",
    "print(f\"{name} is {age} years old and takes {courses[0]}.\")"
   ]
  },
  {
   "cell_type": "markdown",
   "id": "f08322cb-4296-4868-9a9c-2f8040388433",
   "metadata": {},
   "source": [
    "## Mutable vs Immutable objects"
   ]
  },
  {
   "cell_type": "markdown",
   "id": "4d317788-7f20-4407-ae4f-86ebea601459",
   "metadata": {},
   "source": [
    "### Mutable"
   ]
  },
  {
   "cell_type": "markdown",
   "id": "3f22397a-c6eb-4322-8dd0-47fd5514e597",
   "metadata": {},
   "source": [
    "Mutable objects can be changed after they are created. This means you can modify their content, such as adding, removing, or changing elements. Here are some common mutable data types: Lists, Dictionaries, Sets"
   ]
  },
  {
   "cell_type": "markdown",
   "id": "56f07933-dada-4123-b4d5-313f91622978",
   "metadata": {},
   "source": [
    "#### Lists"
   ]
  },
  {
   "cell_type": "code",
   "execution_count": 20,
   "id": "99acf678-b45e-4a44-ab17-bfd47e61034f",
   "metadata": {},
   "outputs": [
    {
     "name": "stdout",
     "output_type": "stream",
     "text": [
      "['orange', 'banana', 'cherry', 'grape']\n"
     ]
    }
   ],
   "source": [
    "fruits = [\"apple\", \"banana\", \"cherry\"]\n",
    "fruits[0] = \"orange\"  # Change element\n",
    "fruits.append(\"grape\")  # Add element\n",
    "print(fruits)  # Output: ['orange', 'banana', 'cherry', 'grape']"
   ]
  },
  {
   "cell_type": "markdown",
   "id": "7b6ce6db-6183-49a7-b786-ca8b840affd0",
   "metadata": {},
   "source": [
    "#### Dictionaries"
   ]
  },
  {
   "cell_type": "code",
   "execution_count": 22,
   "id": "7bde4d2a-6ce6-486d-9d9a-c6f7033c99ff",
   "metadata": {},
   "outputs": [
    {
     "name": "stdout",
     "output_type": "stream",
     "text": [
      "{'name': 'Ashish', 'age': 33, 'courses': ['Math', 'Science']}\n"
     ]
    }
   ],
   "source": [
    "student = {\"name\": \"Ashish\", \"age\": 32}\n",
    "student[\"age\"] = 33 # change value\n",
    "student[\"courses\"] = [\"Math\", \"Science\"] # Add key-value pair\n",
    "print(student) # Output: {'name': 'Ashish', 'age': 33, 'courses': ['Math', 'Science']}"
   ]
  },
  {
   "cell_type": "markdown",
   "id": "ca9764b1-b716-4bde-a635-4c605aa65e79",
   "metadata": {},
   "source": [
    "#### Sets"
   ]
  },
  {
   "cell_type": "code",
   "execution_count": 24,
   "id": "69262c28-690f-4407-be68-5d5e3dae0961",
   "metadata": {},
   "outputs": [
    {
     "name": "stdout",
     "output_type": "stream",
     "text": [
      "{1, 3, 4}\n"
     ]
    }
   ],
   "source": [
    "unique_num = {1,2,3}\n",
    "unique_num.add(4) # Add element\n",
    "unique_num.remove(2) # Remove element\n",
    "print(unique_num) # Output: {1,3,4}"
   ]
  },
  {
   "cell_type": "markdown",
   "id": "97452be7-d9d0-4e24-a41d-08c610c2b78c",
   "metadata": {},
   "source": [
    "### Immutable"
   ]
  },
  {
   "cell_type": "markdown",
   "id": "1e26471f-5ce2-4cbc-8524-f29fdb89ec90",
   "metadata": {},
   "source": [
    "Immutable objects cannot be changed after they are created. Any attempt to modify them will result in the creation of a new object. Here are some common immutable data types: Strings, Tuples, Numbers"
   ]
  },
  {
   "cell_type": "markdown",
   "id": "a074c1ef-d2b5-4cde-b74f-f37fdcdbcebd",
   "metadata": {},
   "source": [
    "#### Strings"
   ]
  },
  {
   "cell_type": "code",
   "execution_count": 39,
   "id": "d0f96c39-6e4f-4d6d-85c2-92571223756d",
   "metadata": {},
   "outputs": [
    {
     "name": "stdout",
     "output_type": "stream",
     "text": [
      "hi\n"
     ]
    }
   ],
   "source": [
    "greeting = \"hello\"\n",
    "\n",
    "# greeting.replace(\"ello\", \"i\") # This will not work because we need to assign this step to a new variable like below\n",
    "\n",
    "greeting = greeting.replace(\"ello\", \"i\") # This will replace \"ello\" with \"i\" and assign the value to greeting variable\n",
    "print(greeting)"
   ]
  },
  {
   "cell_type": "markdown",
   "id": "39ad9d46-087b-47a8-9523-32107cba72d0",
   "metadata": {},
   "source": [
    "#### Tuples"
   ]
  },
  {
   "cell_type": "code",
   "execution_count": 30,
   "id": "936a0a5c-553e-4fe9-b7c7-65a3447568b5",
   "metadata": {},
   "outputs": [
    {
     "name": "stdout",
     "output_type": "stream",
     "text": [
      "(10, 20)\n",
      "(15, 20)\n"
     ]
    }
   ],
   "source": [
    "point = (10,20)\n",
    "\n",
    "#point[0] = 15 # This will raise an error\n",
    "\n",
    "new_point = (15,20) # create a new tuple\n",
    "print(point) #output: (10,20)\n",
    "print(new_point) #output: (15,20)"
   ]
  },
  {
   "cell_type": "markdown",
   "id": "71b2e250-0a51-40bf-ae8e-c3779b2bbc3b",
   "metadata": {},
   "source": [
    "#### Numbers"
   ]
  },
  {
   "cell_type": "code",
   "execution_count": 41,
   "id": "917b7881-37f4-4aa1-a019-2a11db905554",
   "metadata": {},
   "outputs": [
    {
     "name": "stdout",
     "output_type": "stream",
     "text": [
      "10\n",
      "15\n"
     ]
    }
   ],
   "source": [
    "x = 10\n",
    "y = x + 5\n",
    "\n",
    "print(x)\n",
    "print(y)"
   ]
  },
  {
   "cell_type": "markdown",
   "id": "4df3e011-2d48-48dd-bf71-24d1daad0776",
   "metadata": {},
   "source": [
    "## Control Flow"
   ]
  },
  {
   "cell_type": "markdown",
   "id": "39276497-536b-4027-b205-8303a5dbad52",
   "metadata": {},
   "source": [
    "### Conditional Statements"
   ]
  },
  {
   "cell_type": "markdown",
   "id": "a5aeeff9-6d02-488c-9534-1e53dbbb57d2",
   "metadata": {},
   "source": [
    "#### if statement"
   ]
  },
  {
   "cell_type": "code",
   "execution_count": 42,
   "id": "b25272db-18ef-4b1e-981f-d85fd9d5fa3e",
   "metadata": {},
   "outputs": [
    {
     "name": "stdout",
     "output_type": "stream",
     "text": [
      "x is greater than 5\n"
     ]
    }
   ],
   "source": [
    "x = 10\n",
    "if x > 5:\n",
    "    print(\"x is greater than 5\")"
   ]
  },
  {
   "cell_type": "markdown",
   "id": "c40cd2f5-dbea-4220-ac6c-ba8d08082bac",
   "metadata": {},
   "source": [
    "#### if-else statement"
   ]
  },
  {
   "cell_type": "code",
   "execution_count": 43,
   "id": "bb118e0c-f82b-4c62-85b1-832a2c51529f",
   "metadata": {},
   "outputs": [
    {
     "name": "stdout",
     "output_type": "stream",
     "text": [
      "x is lesser than or equal to 5\n"
     ]
    }
   ],
   "source": [
    "x = 3\n",
    "if x > 5:\n",
    "    print(\"x is greater than 5\")\n",
    "else:\n",
    "    print(\"x is lesser than or equal to 5\")"
   ]
  },
  {
   "cell_type": "markdown",
   "id": "46abb6b9-717a-4704-ad58-82c2f4c8e995",
   "metadata": {},
   "source": [
    "#### elif statement"
   ]
  },
  {
   "cell_type": "code",
   "execution_count": 44,
   "id": "27368ddb-6546-4458-a6c2-03a785478da0",
   "metadata": {},
   "outputs": [
    {
     "name": "stdout",
     "output_type": "stream",
     "text": [
      "x is equal to 5\n"
     ]
    }
   ],
   "source": [
    "x = 5\n",
    "if x > 5:\n",
    "    print(\"x is greater than 5\")\n",
    "elif x == 5:\n",
    "    print(\"x is equal to 5\")\n",
    "else:\n",
    "    print(\"x is less than 5\")"
   ]
  },
  {
   "cell_type": "markdown",
   "id": "f093416c-e586-4d2e-9165-84732fb76c7a",
   "metadata": {},
   "source": [
    "### Loop statement"
   ]
  },
  {
   "cell_type": "markdown",
   "id": "0b4278cc-f0eb-4891-85a4-63f00849777f",
   "metadata": {},
   "source": [
    "#### for loop"
   ]
  },
  {
   "cell_type": "code",
   "execution_count": 45,
   "id": "313805a6-f4fb-41c3-a327-67331abdd633",
   "metadata": {},
   "outputs": [
    {
     "name": "stdout",
     "output_type": "stream",
     "text": [
      "0\n",
      "1\n",
      "2\n",
      "3\n",
      "4\n"
     ]
    }
   ],
   "source": [
    "for i in range(5):\n",
    "    print(i)"
   ]
  },
  {
   "cell_type": "markdown",
   "id": "39a45b97-7e4d-48e1-9610-38ebded8a8c4",
   "metadata": {},
   "source": [
    "#### while loop"
   ]
  },
  {
   "cell_type": "code",
   "execution_count": 48,
   "id": "3654de7a-5aa9-4c8e-ad3d-dd119702ac73",
   "metadata": {},
   "outputs": [
    {
     "name": "stdout",
     "output_type": "stream",
     "text": [
      "0\n",
      "1\n",
      "2\n",
      "3\n",
      "4\n"
     ]
    }
   ],
   "source": [
    "x = 0\n",
    "while x < 5:\n",
    "    print(x)\n",
    "    x += 1"
   ]
  },
  {
   "cell_type": "markdown",
   "id": "c926af0b-18c6-4be7-b82b-a0a0ba8b08d3",
   "metadata": {},
   "source": [
    "### Loop control statements"
   ]
  },
  {
   "cell_type": "markdown",
   "id": "71e54474-3fd6-4d10-9078-1a0876d83fa2",
   "metadata": {},
   "source": [
    "#### break statement"
   ]
  },
  {
   "cell_type": "code",
   "execution_count": 57,
   "id": "e5ed95a5-04bd-4e16-85f1-381e3c914b82",
   "metadata": {},
   "outputs": [
    {
     "name": "stdout",
     "output_type": "stream",
     "text": [
      "0\n",
      "1\n",
      "2\n"
     ]
    }
   ],
   "source": [
    "for i in range(5):\n",
    "    if i == 3:\n",
    "        break  # Exits the loop prematurely\n",
    "    print(i)"
   ]
  },
  {
   "cell_type": "markdown",
   "id": "f6cb0e9d-504c-4b9b-a56b-c837a5b02755",
   "metadata": {},
   "source": [
    "#### continue statement"
   ]
  },
  {
   "cell_type": "code",
   "execution_count": 58,
   "id": "7794b89b-e7c9-4940-bb6f-d9e613cf1dbe",
   "metadata": {},
   "outputs": [
    {
     "name": "stdout",
     "output_type": "stream",
     "text": [
      "0\n",
      "1\n",
      "2\n",
      "4\n"
     ]
    }
   ],
   "source": [
    "for i in range(5):\n",
    "    if i == 3:\n",
    "        continue  # Skips the current iteration and proceeds to the next iteration\n",
    "    print(i)"
   ]
  },
  {
   "cell_type": "markdown",
   "id": "da05b1ab-cad6-4930-81ef-2ff9dab07a5a",
   "metadata": {},
   "source": [
    "#### pass statement"
   ]
  },
  {
   "cell_type": "code",
   "execution_count": 59,
   "id": "de25e0ca-d856-42e0-b593-81b2bd5b23de",
   "metadata": {},
   "outputs": [
    {
     "name": "stdout",
     "output_type": "stream",
     "text": [
      "0\n",
      "1\n",
      "2\n",
      "3\n",
      "4\n"
     ]
    }
   ],
   "source": [
    "for i in range(5):\n",
    "    if i == 2:\n",
    "        pass  # Does nothing and is used as a placeholder\n",
    "    print(i)"
   ]
  },
  {
   "cell_type": "markdown",
   "id": "3be69585-06e6-494a-81f3-429986c9ad42",
   "metadata": {},
   "source": [
    "## Functions"
   ]
  },
  {
   "cell_type": "markdown",
   "id": "19bf2062-9b83-4088-a35e-3cf1de22d568",
   "metadata": {},
   "source": [
    "### Defining and calling functions"
   ]
  },
  {
   "cell_type": "code",
   "execution_count": 61,
   "id": "ecb05130-3b6b-4cbf-a828-8047e6b57d20",
   "metadata": {},
   "outputs": [
    {
     "name": "stdout",
     "output_type": "stream",
     "text": [
      "hello, Ashish!\n"
     ]
    }
   ],
   "source": [
    "#p_name = \"Ashish\"\n",
    "\n",
    "def greet(p_name):\n",
    "    print(f\"hello, {p_name}!\")\n",
    "\n",
    "greet(\"Ashish\")"
   ]
  },
  {
   "cell_type": "code",
   "execution_count": null,
   "id": "adb0baee-cc31-42d6-b7e7-e8c262f21cde",
   "metadata": {},
   "outputs": [],
   "source": []
  }
 ],
 "metadata": {
  "kernelspec": {
   "display_name": "Python 3 (ipykernel)",
   "language": "python",
   "name": "python3"
  },
  "language_info": {
   "codemirror_mode": {
    "name": "ipython",
    "version": 3
   },
   "file_extension": ".py",
   "mimetype": "text/x-python",
   "name": "python",
   "nbconvert_exporter": "python",
   "pygments_lexer": "ipython3",
   "version": "3.12.7"
  }
 },
 "nbformat": 4,
 "nbformat_minor": 5
}
