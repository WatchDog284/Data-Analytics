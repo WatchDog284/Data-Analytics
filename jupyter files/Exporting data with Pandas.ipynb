{
 "cells": [
  {
   "cell_type": "markdown",
   "id": "7efaf8cb-e00b-4fb5-a1bd-cb0ff3075e78",
   "metadata": {},
   "source": [
    "# Exporting data with Pandas"
   ]
  },
  {
   "cell_type": "markdown",
   "id": "2d22ebfc-a211-4d5d-9023-6fcac004cd53",
   "metadata": {},
   "source": [
    "Here's a comprehensive list of formats you can export data to using pandas:\n",
    "\n",
    "Common Formats\n",
    "1. CSV (Comma-Separated Values): df.to_csv('filename.csv')\n",
    "2. Excel: df.to_excel('filename.xlsx')\n",
    "3. JSON (JavaScript Object Notation): df.to_json('filename.json')\n",
    "4. SQL Database: df.to_sql('table_name', con=engine)\n",
    "\n",
    "Advanced Formats\n",
    "1. HTML (HyperText Markup Language): df.to_html('filename.html')\n",
    "2. Feather: df.to_feather('filename.feather')\n",
    "3. Parquet: df.to_parquet('filename.parquet')\n",
    "4. HDF5 (Hierarchical Data Format): df.to_hdf('filename.h5', key='df')\n",
    "5. Stata: df.to_stata('filename.dta')\n",
    "6. Pickle: df.to_pickle('filename.pkl')\n",
    "7. LaTeX: df.to_latex('filename.tex')\n",
    "8. Clipboard: df.to_clipboard()\n",
    "\n",
    "Each of these methods provides various parameters to customize the export process. \n",
    "This should give you a wide range of options to choose from, depending on your specific requirements."
   ]
  },
  {
   "cell_type": "markdown",
   "id": "d511d714-4b85-4774-badc-f9de556d1194",
   "metadata": {},
   "source": [
    "## Export to CSV format"
   ]
  },
  {
   "cell_type": "code",
   "execution_count": 1,
   "id": "8e55c6a6-501a-4d86-b969-1677da2bff43",
   "metadata": {},
   "outputs": [],
   "source": [
    "import pandas as pd\n",
    "\n",
    "# sample DataFrame\n",
    "data = {'Name': ['Alice', 'Bob', 'Charlie'], 'Age': ['25','30', '35']}\n",
    "df = pd.DataFrame(data)\n",
    "\n",
    "# export to CSV\n",
    "df.to_csv('exportToCSV.csv', index=False)"
   ]
  },
  {
   "cell_type": "markdown",
   "id": "66e93ff9-9e00-486a-9e43-672f87e43904",
   "metadata": {},
   "source": [
    "## Export to Excel format"
   ]
  },
  {
   "cell_type": "code",
   "execution_count": 9,
   "id": "76bb185a-98a8-404a-8157-9eeff9d89289",
   "metadata": {},
   "outputs": [],
   "source": [
    "# requires openpyxl module\n",
    "\n",
    "import pandas as pd\n",
    "\n",
    "# sample DataFrame\n",
    "data = {'Name': ['Ash', 'Bucky', 'ChaD'], 'Age': ['20','30', '40']}\n",
    "df = pd.DataFrame(data)\n",
    "\n",
    "# export to excel\n",
    "df.to_excel('exportToExcel.xlsx', index=False)"
   ]
  },
  {
   "cell_type": "markdown",
   "id": "eec49ac7-61f8-4b0f-882b-2faa2ca52bac",
   "metadata": {},
   "source": [
    "## Export to JSON format"
   ]
  },
  {
   "cell_type": "code",
   "execution_count": 4,
   "id": "32fb42ab-769a-45d4-9151-6052ef3cc956",
   "metadata": {},
   "outputs": [],
   "source": [
    "import pandas as pd\n",
    "\n",
    "# sample DataFrame\n",
    "data = {'Name': ['Ash', 'Bucky', 'ChaD'], 'Age': ['20','30', '40']}\n",
    "df = pd.DataFrame(data)\n",
    "\n",
    "# export to JSON\n",
    "df.to_json('exportToJSON.json')"
   ]
  },
  {
   "cell_type": "markdown",
   "id": "2b79850e-4f3f-4198-84da-b7ca6ffa707b",
   "metadata": {},
   "source": [
    "## Export to SQL Database"
   ]
  },
  {
   "cell_type": "code",
   "execution_count": null,
   "id": "13f0c58b-e6de-4a87-b0ba-41529abd2295",
   "metadata": {},
   "outputs": [],
   "source": [
    "import pandas as pd\n",
    "from sqlalchemy import create_engine\n",
    "\n",
    "# sample DataFrame\n",
    "data = {'Name': ['Ash', 'Bucky', 'ChaD'], 'Age': ['20','30', '40']}\n",
    "df = pd.DataFrame(data)\n",
    "\n",
    "# creating a database connection\n",
    "engine = create_engine('sqlite:///exportToSQLDB.db')\n",
    "df.to_sql('table_name', con=engine, index=False, if_exists='replace')"
   ]
  },
  {
   "cell_type": "markdown",
   "id": "294faeca-aaeb-4807-9225-2981d274bcf3",
   "metadata": {},
   "source": [
    "## Export to HTML format"
   ]
  },
  {
   "cell_type": "code",
   "execution_count": 6,
   "id": "6a2ae914-0f76-4538-b387-c9b2f29cd752",
   "metadata": {},
   "outputs": [],
   "source": [
    "import pandas as pd\n",
    "\n",
    "# sample DataFrame\n",
    "data = {'Name': ['Ash', 'Bucky', 'ChaD'], 'Age': ['20','30', '40']}\n",
    "df = pd.DataFrame(data)\n",
    "\n",
    "# export to HTML\n",
    "df.to_html('exportToHTML.html')"
   ]
  },
  {
   "cell_type": "markdown",
   "id": "755f9d8e-66f8-4b94-b39b-b013efccbcb8",
   "metadata": {},
   "source": [
    "## Export to Feather format"
   ]
  },
  {
   "cell_type": "code",
   "execution_count": 10,
   "id": "842e7641-260e-4b11-85ad-2cccd81584c6",
   "metadata": {},
   "outputs": [],
   "source": [
    "'''\n",
    "Feather is a fast, lightweight, and language-independent binary columnar storage format for data frames.\n",
    "It's designed for high-performance data I/O.\n",
    "It is particularly useful when you need to transfer data between Python and R, \n",
    "as it is supported by both pandas (Python) and the feather package (R). \n",
    "It efficiently handles large datasets and preserves data types.\n",
    "'''\n",
    "\n",
    "import pandas as pd\n",
    "\n",
    "# sample DataFrame\n",
    "data = {'Name': ['Ash', 'Bucky', 'ChaD'], 'Age': ['20','30', '40']}\n",
    "df = pd.DataFrame(data)\n",
    "\n",
    "# export to feather\n",
    "df.to_feather('exportToFeather.feather') # requires pyarrow module"
   ]
  },
  {
   "cell_type": "markdown",
   "id": "ab0d423c-81f2-4391-9014-623746d3f8de",
   "metadata": {},
   "source": [
    "## Export to Parquest format"
   ]
  },
  {
   "cell_type": "code",
   "execution_count": 12,
   "id": "e1479815-9a86-4a62-845b-8f51f72c2f7a",
   "metadata": {},
   "outputs": [],
   "source": [
    "'''\n",
    "Parquet is an open-source columnar storage format designed for efficient data storage and retrieval.\n",
    "It provides efficient data compression and encoding schemes with enhanced performance to handle complex data in bulk.\n",
    "Parquet is a popular choice for big data applications and is widely used with the Apache Hadoop ecosystem.\n",
    "'''\n",
    "\n",
    "import pandas as pd\n",
    "\n",
    "# sample DataFrame\n",
    "data = {'Name': ['Ash', 'Bucky', 'ChaD'], 'Age': ['20','30', '40']}\n",
    "df = pd.DataFrame(data)\n",
    "\n",
    "# export to parquest\n",
    "df.to_parquet('exportToParquest.parquet')"
   ]
  },
  {
   "cell_type": "markdown",
   "id": "db5a8dfa-5ad6-44a7-ad1d-548c16b6ce43",
   "metadata": {},
   "source": [
    "## Export to HDF5 (Hierarchical Data Format)"
   ]
  },
  {
   "cell_type": "code",
   "execution_count": 19,
   "id": "74902f83-8d7b-4dab-871f-d18b973a3aae",
   "metadata": {},
   "outputs": [],
   "source": [
    "'''\n",
    "HDF5 is a versatile data model that can represent complex data relationships.\n",
    "And is commonly used for storing large volumes of data.\n",
    "It supports a variety of data types and is designed for fast read/write operations.\n",
    "HDF5 is widely used in scientific computing and engineering applications.\n",
    "'''\n",
    "\n",
    "import pandas as pd\n",
    "\n",
    "# sample DataFrame\n",
    "data = {'Name': ['Ash', 'Bucky', 'ChaD'], 'Age': ['20','30', '40']}\n",
    "df = pd.DataFrame(data)\n",
    "\n",
    "# export to hdf5\n",
    "df.to_hdf('exportToHDF5.h5', key='df', mode='w') # requires tables module"
   ]
  },
  {
   "cell_type": "markdown",
   "id": "755287b4-6dbf-4a95-93ad-e38d2a629f3a",
   "metadata": {},
   "source": [
    "## Export to Stata format"
   ]
  },
  {
   "cell_type": "code",
   "execution_count": 20,
   "id": "88edcbc7-4102-4a5f-b2aa-6e569f842f5a",
   "metadata": {},
   "outputs": [],
   "source": [
    "'''\n",
    "Stata is a data analysis and statistical software package.\n",
    "Its file format (.dta) is used to store datasets in a way that preserves variable labels, value labels, and other metadata.\n",
    "The Stata file format is particularly useful for researchers and analysts who use Stata for statistical analysis.\n",
    "'''\n",
    "\n",
    "import pandas as pd\n",
    "\n",
    "# sample DataFrame\n",
    "data = {'Name': ['Ash', 'Bucky', 'ChaD'], 'Age': ['20','30', '40']}\n",
    "df = pd.DataFrame(data)\n",
    "\n",
    "# export to stata\n",
    "df.to_stata('exportToStata.dta')"
   ]
  },
  {
   "cell_type": "markdown",
   "id": "26a903c4-61f7-4b45-a7a9-5703438df799",
   "metadata": {},
   "source": [
    "## Export to Pickle format"
   ]
  },
  {
   "cell_type": "code",
   "execution_count": 21,
   "id": "74b0505f-37ec-491f-979c-142f507b09cf",
   "metadata": {},
   "outputs": [],
   "source": [
    "'''\n",
    "Pickle is a Python-specific format for serializing and deserializing Python objects.\n",
    "It allows you to save a Python object (like a pandas DataFrame) to a file and later load it back into memory.\n",
    "Pickle is useful for storing data in a format that can be quickly and easily reloaded by Python programs.\n",
    "'''\n",
    "\n",
    "import pandas as pd\n",
    "\n",
    "# sample DataFrame\n",
    "data = {'Name': ['Ash', 'Bucky', 'ChaD'], 'Age': ['20','30', '40']}\n",
    "df = pd.DataFrame(data)\n",
    "\n",
    "# export to pickle\n",
    "df.to_pickle('exportToPickle.pkl')"
   ]
  },
  {
   "cell_type": "markdown",
   "id": "4657d4aa-61b8-48f7-bdb6-140dda9178ae",
   "metadata": {},
   "source": [
    "## Export to LaTex format"
   ]
  },
  {
   "cell_type": "code",
   "execution_count": 22,
   "id": "589e07d6-bd07-4725-b1ea-c1827ecb849c",
   "metadata": {},
   "outputs": [],
   "source": [
    "'''\n",
    "LaTeX is a typesetting system commonly used for technical and scientific documentation.\n",
    "Exporting a pandas DataFrame to LaTeX format allows you to include tables in LaTeX documents.\n",
    "The resulting .tex file can be included in a LaTeX document and compiled to produce a nicely formatted table.\n",
    "'''\n",
    "\n",
    "import pandas as pd\n",
    "\n",
    "# sample DataFrame\n",
    "data = {'Name': ['Ash', 'Bucky', 'ChaD'], 'Age': ['20','30', '40']}\n",
    "df = pd.DataFrame(data)\n",
    "\n",
    "# export to latex\n",
    "df.to_latex('exportToLatex.tex')"
   ]
  },
  {
   "cell_type": "markdown",
   "id": "9554007f-9d48-4380-8c21-4ed756659490",
   "metadata": {},
   "source": [
    "## Export to Clipboard"
   ]
  },
  {
   "cell_type": "code",
   "execution_count": 24,
   "id": "fe7bad3e-ceef-406c-aa32-9ecf54779576",
   "metadata": {},
   "outputs": [],
   "source": [
    "import pandas as pd\n",
    "\n",
    "# sample DataFrame\n",
    "data = {'Name': ['Ash', 'Bucky', 'ChaD'], 'Age': ['20','30', '40']}\n",
    "df = pd.DataFrame(data)\n",
    "\n",
    "# export to clipboard\n",
    "df.to_clipboard(index=False)"
   ]
  },
  {
   "cell_type": "code",
   "execution_count": null,
   "id": "814f737f-4b29-4754-838d-95d3000570ec",
   "metadata": {},
   "outputs": [],
   "source": []
  }
 ],
 "metadata": {
  "kernelspec": {
   "display_name": "Python 3 (ipykernel)",
   "language": "python",
   "name": "python3"
  },
  "language_info": {
   "codemirror_mode": {
    "name": "ipython",
    "version": 3
   },
   "file_extension": ".py",
   "mimetype": "text/x-python",
   "name": "python",
   "nbconvert_exporter": "python",
   "pygments_lexer": "ipython3",
   "version": "3.12.7"
  }
 },
 "nbformat": 4,
 "nbformat_minor": 5
}
