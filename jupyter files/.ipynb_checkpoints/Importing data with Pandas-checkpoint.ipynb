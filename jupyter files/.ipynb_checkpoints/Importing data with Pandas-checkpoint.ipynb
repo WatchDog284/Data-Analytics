{
 "cells": [
  {
   "cell_type": "markdown",
   "id": "a56c24e4-bbce-4291-890d-5785616a7850",
   "metadata": {},
   "source": [
    "# Importing data with Pandas"
   ]
  },
  {
   "cell_type": "markdown",
   "id": "e2507a79-67ea-4ead-9bc6-656e0941058c",
   "metadata": {},
   "source": [
    "Range of data sources for importing data in pandas\n",
    "1. CSV file\n",
    "2. Excel file\n",
    "3. SQL database\n",
    "4. SQL query\n",
    "5. JSON file\n",
    "6. HTML file\n",
    "7. Parquet file\n",
    "8. ZIP file\n",
    "9. Clipboard\n",
    "10. URL\n",
    "11. API"
   ]
  },
  {
   "cell_type": "markdown",
   "id": "f943fa32-2111-4870-ae6a-5ccd55c3fbad",
   "metadata": {},
   "source": [
    "## Syntax for importing data using data sources"
   ]
  },
  {
   "cell_type": "markdown",
   "id": "b8d68aec-a5c8-4afa-a45a-5a74e898c1d8",
   "metadata": {},
   "source": [
    "### CSV file"
   ]
  },
  {
   "cell_type": "code",
   "execution_count": null,
   "id": "7f59633b-b7bb-4f03-b9eb-a78d51d022b1",
   "metadata": {},
   "outputs": [],
   "source": [
    "import pandas as pd\n",
    "\n",
    "# read data from a csv file\n",
    "df = pd.read_csv('file.csv')"
   ]
  },
  {
   "cell_type": "markdown",
   "id": "85809ef2-a4fc-4710-9fee-3cab6074d441",
   "metadata": {},
   "source": [
    "### Excel file"
   ]
  },
  {
   "cell_type": "code",
   "execution_count": null,
   "id": "a446fc4f-037c-48f7-b0b3-41d5c44e6559",
   "metadata": {},
   "outputs": [],
   "source": [
    "import pandas as pd\n",
    "\n",
    "# read data from an excel file\n",
    "df = pd.read_excel('file.xlsx')"
   ]
  },
  {
   "cell_type": "markdown",
   "id": "2b08b276-eb6b-4b4d-91dc-e04fa55cb860",
   "metadata": {},
   "source": [
    "### SQL database"
   ]
  },
  {
   "cell_type": "code",
   "execution_count": 5,
   "id": "5c176e23-3b65-4d8e-ba21-48a1a19974a2",
   "metadata": {},
   "outputs": [],
   "source": [
    "import pandas as pd\n",
    "import sqlalchemy\n",
    "\n",
    "# create a connection to the database\n",
    "engine = sqlalchemy.create_engine('sqlite://database.db')\n",
    "\n",
    "# read data from a SQL table\n",
    "df = pd.read_sql('SELECT * FROM table_name', engine)"
   ]
  },
  {
   "cell_type": "markdown",
   "id": "36fb0888-c212-4dcd-91e5-eacd2201dee7",
   "metadata": {},
   "source": [
    "### SQL Query"
   ]
  },
  {
   "cell_type": "code",
   "execution_count": null,
   "id": "27676ea4-3f0a-4ef0-9f60-be431e9ce9c9",
   "metadata": {},
   "outputs": [],
   "source": [
    "import pandas as pd\n",
    "import sqlalchemy\n",
    "\n",
    "#create a connection to the database\n",
    "engine = sqlalchemy.create_engine('sqlite://database.db')\n",
    "\n",
    "# execute SQL query and read the result into a DataFrame\n",
    "query = \"SELECT * FROM table_name WHERE condition\"\n",
    "df = pd.read_sql_query(query,engine)"
   ]
  },
  {
   "cell_type": "markdown",
   "id": "e70c9bd3-c1a0-4091-a7f2-d2c000571cba",
   "metadata": {},
   "source": [
    "### JSON file"
   ]
  },
  {
   "cell_type": "code",
   "execution_count": null,
   "id": "b7ed2453-4113-40a4-90e6-975b4ed6f9d6",
   "metadata": {},
   "outputs": [],
   "source": [
    "import pandas as pd\n",
    "\n",
    "# read data from a JSON file\n",
    "df = pd.read_json('file.json')"
   ]
  },
  {
   "cell_type": "markdown",
   "id": "488254b4-7209-4b06-ad08-f9439e398c52",
   "metadata": {},
   "source": [
    "### HTML file"
   ]
  },
  {
   "cell_type": "code",
   "execution_count": null,
   "id": "138443f1-db7f-4273-9b4e-17e5994e2191",
   "metadata": {},
   "outputs": [],
   "source": [
    "import pandas as pd\n",
    "\n",
    "# Read data from an HTML file\n",
    "df_list = pd.read_html('file.html')\n",
    "# df_list will be a list of DataFrames because an HTML file can contain multiple tables"
   ]
  },
  {
   "cell_type": "markdown",
   "id": "676de961-45f5-4ba3-a74f-2049d7dbbf72",
   "metadata": {},
   "source": [
    "### Parquet file"
   ]
  },
  {
   "cell_type": "code",
   "execution_count": null,
   "id": "4d0826b0-27d8-4bb0-a0e0-025c25861522",
   "metadata": {},
   "outputs": [],
   "source": [
    "import pandas as pd\n",
    "\n",
    "# read data from a parquet file\n",
    "df = pd.read_parquet('file.parquet')"
   ]
  },
  {
   "cell_type": "markdown",
   "id": "993865d8-503e-49d6-9b29-8f73c29e99d2",
   "metadata": {},
   "source": [
    "### ZIP file"
   ]
  },
  {
   "cell_type": "code",
   "execution_count": null,
   "id": "57ea5d5e-f498-455f-972c-4dc20f2fd37f",
   "metadata": {},
   "outputs": [],
   "source": [
    "import pandas as pd\n",
    "import zipfile\n",
    "\n",
    "# extract and read data from a ZIP file\n",
    "with zipfile.zipfile('file.zip', 'r') as z:\n",
    "    with z.open('file.csv') as f:\n",
    "        df = pd.read_csv(f)"
   ]
  },
  {
   "cell_type": "markdown",
   "id": "62b011b0-400d-4a70-96d6-3fded0e1d674",
   "metadata": {},
   "source": [
    "### Clipboard"
   ]
  },
  {
   "cell_type": "code",
   "execution_count": null,
   "id": "4eb23b23-d357-4fe7-94ff-1d92992caa38",
   "metadata": {},
   "outputs": [],
   "source": [
    "import pandas as pd\n",
    "\n",
    "# read data from the clipboard\n",
    "df = pd.read_clipboard()\n",
    "# this is useful for quickly copying and pasting data from other sources"
   ]
  },
  {
   "cell_type": "markdown",
   "id": "0d5e7d57-c70b-44bf-a36e-6c3c13c686f7",
   "metadata": {},
   "source": [
    "### URL"
   ]
  },
  {
   "cell_type": "code",
   "execution_count": null,
   "id": "a4baacc4-5bb0-4dc4-a3ed-6e6d7198a6ba",
   "metadata": {},
   "outputs": [],
   "source": [
    "import pandas as pd\n",
    "\n",
    "# read data from URL (assuming it's a csv file)\n",
    "url = 'http://example.com/data.csv'\n",
    "df = pd.read_csv(url)"
   ]
  },
  {
   "cell_type": "markdown",
   "id": "4850e092-82e3-4bcc-85ec-dca77850b6c1",
   "metadata": {},
   "source": [
    "### API"
   ]
  },
  {
   "cell_type": "code",
   "execution_count": null,
   "id": "153e4f90-a2be-4f4e-ba67-67342da8f725",
   "metadata": {},
   "outputs": [],
   "source": [
    "import pandas as pd\n",
    "import requests\n",
    "\n",
    "# make a request to the API\n",
    "response = requests.get('http://api.example.com/data')\n",
    "\n",
    "# read the JSON response into a DataFrame\n",
    "df = pd.read_json(response.text)"
   ]
  }
 ],
 "metadata": {
  "kernelspec": {
   "display_name": "Python 3 (ipykernel)",
   "language": "python",
   "name": "python3"
  },
  "language_info": {
   "codemirror_mode": {
    "name": "ipython",
    "version": 3
   },
   "file_extension": ".py",
   "mimetype": "text/x-python",
   "name": "python",
   "nbconvert_exporter": "python",
   "pygments_lexer": "ipython3",
   "version": "3.12.7"
  }
 },
 "nbformat": 4,
 "nbformat_minor": 5
}
