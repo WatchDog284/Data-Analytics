{
 "cells": [
  {
   "cell_type": "markdown",
   "id": "2e0c64b1",
   "metadata": {},
   "source": [
    "# Statistics with Python"
   ]
  },
  {
   "cell_type": "raw",
   "id": "9056dbef-3974-41a4-ad2a-ac7ff805912f",
   "metadata": {},
   "source": [
    "https://www.geeksforgeeks.org/statistical-functions-in-python-set-2-measure-of-spread/"
   ]
  },
  {
   "cell_type": "markdown",
   "id": "35a603bd",
   "metadata": {},
   "source": [
    "## Measure of Variability"
   ]
  },
  {
   "cell_type": "markdown",
   "id": "9e722a90",
   "metadata": {},
   "source": [
    "### Range()"
   ]
  },
  {
   "cell_type": "code",
   "execution_count": 1,
   "id": "a2d3acfa",
   "metadata": {},
   "outputs": [
    {
     "name": "stdout",
     "output_type": "stream",
     "text": [
      "Maximum = 5, Minimum = 1 and Range = 4\n"
     ]
    }
   ],
   "source": [
    "# Python code to demonstrate range()\n",
    "# Sample Data \n",
    "arr = [1, 2, 3, 4, 5] \n",
    "\n",
    "#Finding Max \n",
    "Maximum = max(arr) \n",
    "\n",
    "# Finding Min \n",
    "Minimum = min(arr) \n",
    "\n",
    "# Difference Of Max and Min \n",
    "Range = Maximum-Minimum \n",
    "\n",
    "print(\"Maximum = {}, Minimum = {} and Range = {}\".format( Maximum, Minimum, Range))"
   ]
  },
  {
   "cell_type": "markdown",
   "id": "4ef93e52",
   "metadata": {},
   "source": [
    "### Variance()"
   ]
  },
  {
   "cell_type": "code",
   "execution_count": 8,
   "id": "a0d7d146",
   "metadata": {},
   "outputs": [
    {
     "name": "stdout",
     "output_type": "stream",
     "text": [
      "Variance of Sample1 is 15.80952380952381 \n",
      "Variance of Sample2 is 3.5 \n",
      "Variance of Sample3 is 61.125 \n",
      "Variance of Sample4 is 1/45 \n",
      "Variance of Sample5 is 0.17613000000000006 \n"
     ]
    }
   ],
   "source": [
    "# Python code to demonstrate variance()\n",
    "# function on varying range of data-types\n",
    "\n",
    "# importing statistics module\n",
    "from statistics import variance\n",
    "\n",
    "# importing fractions as parameter values\n",
    "from fractions import Fraction as fr\n",
    "\n",
    "# tuple of a set of positive integers\n",
    "# numbers are spread apart but not very much\n",
    "sample1 = (1, 2, 5, 4, 8, 9, 12)\n",
    "\n",
    "# tuple of a set of negative integers\n",
    "sample2 = (-2, -4, -3, -1, -5, -6)\n",
    "\n",
    "# tuple of a set of positive and negative numbers\n",
    "# data-points are spread apart considerably\n",
    "sample3 = (-9, -1, -0, 2, 1, 3, 4, 19)\n",
    "\n",
    "# tuple of a set of fractional numbers\n",
    "sample4 = (fr(1, 2), fr(2, 3), fr(3, 4),\n",
    "           fr(5, 6), fr(7, 8))\n",
    "\n",
    "# tuple of a set of floating point values\n",
    "sample5 = (1.23, 1.45, 2.1, 2.2, 1.9)\n",
    "\n",
    "# Print the variance of each samples\n",
    "print(\"Variance of Sample1 is % s \" % (variance(sample1)))\n",
    "print(\"Variance of Sample2 is % s \" % (variance(sample2)))\n",
    "print(\"Variance of Sample3 is % s \" % (variance(sample3)))\n",
    "print(\"Variance of Sample4 is % s \" % (variance(sample4)))\n",
    "print(\"Variance of Sample5 is % s \" % (variance(sample5)))\n"
   ]
  },
  {
   "cell_type": "markdown",
   "id": "baa6bd33",
   "metadata": {},
   "source": [
    "#### pvariance()"
   ]
  },
  {
   "cell_type": "code",
   "execution_count": 12,
   "id": "0805e85f",
   "metadata": {},
   "outputs": [
    {
     "name": "stdout",
     "output_type": "stream",
     "text": [
      "The variance of data is : 0.6666666666666666\n",
      "The population variance of data is : 0.5555555555555556\n"
     ]
    }
   ],
   "source": [
    "# Python code to demonstrate the working of  \n",
    "# variance() and pvariance() \n",
    "  \n",
    "# importing statistics to handle statistical operations \n",
    "import statistics \n",
    "  \n",
    "# initializing list \n",
    "li = [1.5, 2.5, 2.5, 3.5, 3.5, 3.5] \n",
    "  \n",
    "# using variance to calculate variance of data \n",
    "print (\"The variance of data is : \",end=\"\") \n",
    "print (statistics.variance(li)) \n",
    "  \n",
    "# using pvariance to calculate population variance of data \n",
    "print (\"The population variance of data is : \",end=\"\") \n",
    "print (statistics.pvariance(li)) "
   ]
  },
  {
   "cell_type": "markdown",
   "id": "29c04c7c",
   "metadata": {},
   "source": [
    "### Standard Deviation()"
   ]
  },
  {
   "cell_type": "code",
   "execution_count": 11,
   "id": "66de2c02",
   "metadata": {},
   "outputs": [
    {
     "name": "stdout",
     "output_type": "stream",
     "text": [
      "Standard Deviation of Sample1 is 3.9761191895520196\n",
      "Standard Deviation of Sample2 is 1.8708286933869707\n",
      "Standard Deviation of Sample3 is 7.8182478855559445\n",
      "Standard Deviation of Sample4 is 0.41967844833872525\n"
     ]
    }
   ],
   "source": [
    "# Python code to demonstrate stdev()\n",
    "# function on various range of datasets\n",
    "\n",
    "# importing the statistics module\n",
    "from statistics import stdev\n",
    "\n",
    "# importing fractions as parameter values\n",
    "from fractions import Fraction as fr\n",
    "\n",
    "# creating a varying range of sample sets\n",
    "# numbers are spread apart but not very much\n",
    "sample1 = (1, 2, 5, 4, 8, 9, 12)\n",
    "\n",
    "# tuple of a set of negative integers\n",
    "sample2 = (-2, -4, -3, -1, -5, -6)\n",
    "\n",
    "# tuple of a set of positive and negative numbers\n",
    "# data-points are spread apart considerably\n",
    "sample3 = (-9, -1, -0, 2, 1, 3, 4, 19)\n",
    "\n",
    "# tuple of a set of floating point values\n",
    "sample4 = (1.23, 1.45, 2.1, 2.2, 1.9)\n",
    "\n",
    "# Print the standard deviation of\n",
    "# following sample sets of observations\n",
    "print(\"Standard Deviation of Sample1 is % s\" % (stdev(sample1)))\n",
    "print(\"Standard Deviation of Sample2 is % s\" % (stdev(sample2)))\n",
    "print(\"Standard Deviation of Sample3 is % s\" % (stdev(sample3)))\n",
    "print(\"Standard Deviation of Sample4 is % s\" % (stdev(sample4)))"
   ]
  },
  {
   "cell_type": "markdown",
   "id": "fc913965",
   "metadata": {},
   "source": [
    "#### pstdev()"
   ]
  },
  {
   "cell_type": "code",
   "execution_count": 13,
   "id": "a17b7d57",
   "metadata": {},
   "outputs": [
    {
     "name": "stdout",
     "output_type": "stream",
     "text": [
      "The standard deviation of data is : 0.816496580927726\n",
      "The population standard deviation of data is : 0.7453559924999299\n"
     ]
    }
   ],
   "source": [
    "# Python code to demonstrate the working of  \n",
    "# stdev() and pstdev() \n",
    "  \n",
    "# importing statistics to handle statistical operations \n",
    "import statistics \n",
    "  \n",
    "# initializing list \n",
    "li = [1.5, 2.5, 2.5, 3.5, 3.5, 3.5] \n",
    "  \n",
    "# using stdev to calculate standard deviation of data \n",
    "print (\"The standard deviation of data is : \",end=\"\") \n",
    "print (statistics.stdev(li)) \n",
    "  \n",
    "# using pstdev to calculate population standard deviation of data \n",
    "print (\"The population standard deviation of data is : \",end=\"\") \n",
    "print (statistics.pstdev(li)) "
   ]
  },
  {
   "cell_type": "code",
   "execution_count": null,
   "id": "3cdbe7ec",
   "metadata": {},
   "outputs": [],
   "source": []
  }
 ],
 "metadata": {
  "kernelspec": {
   "display_name": "Python 3 (ipykernel)",
   "language": "python",
   "name": "python3"
  },
  "language_info": {
   "codemirror_mode": {
    "name": "ipython",
    "version": 3
   },
   "file_extension": ".py",
   "mimetype": "text/x-python",
   "name": "python",
   "nbconvert_exporter": "python",
   "pygments_lexer": "ipython3",
   "version": "3.12.7"
  }
 },
 "nbformat": 4,
 "nbformat_minor": 5
}
