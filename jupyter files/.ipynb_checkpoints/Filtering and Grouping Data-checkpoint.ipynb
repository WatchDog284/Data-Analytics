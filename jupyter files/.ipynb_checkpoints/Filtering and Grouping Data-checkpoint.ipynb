{
 "cells": [
  {
   "cell_type": "markdown",
   "id": "147a8d51-0dfc-4969-9dea-4bbc6aca1c15",
   "metadata": {},
   "source": [
    "# Filtering and Grouping Data"
   ]
  },
  {
   "cell_type": "markdown",
   "id": "eb6c673d-071c-43e3-b2a2-328c9e5cf6bf",
   "metadata": {},
   "source": [
    "## Filtering data"
   ]
  },
  {
   "cell_type": "code",
   "execution_count": 4,
   "id": "2f5964b0-827f-47bd-b021-0a056236d6e6",
   "metadata": {},
   "outputs": [
    {
     "name": "stdout",
     "output_type": "stream",
     "text": [
      "    A  B\n",
      "5  60  f\n",
      "6  70  g\n"
     ]
    }
   ],
   "source": [
    "import pandas as pd\n",
    "\n",
    "# example DataFrame\n",
    "data = {'A': [10,20,30,40,50,60,70],\n",
    "        'B': ['a','b','c','d','e','f','g']}\n",
    "df = pd.DataFrame(data)\n",
    "\n",
    "# filtering rows where column 'A' is greater than 50\n",
    "filtered_df = df[df['A'] > 50]\n",
    "print(filtered_df)"
   ]
  },
  {
   "cell_type": "markdown",
   "id": "8f2b9169-42cb-4611-82ee-757a877bae5f",
   "metadata": {},
   "source": [
    "## Grouping data"
   ]
  },
  {
   "cell_type": "code",
   "execution_count": 21,
   "id": "d59725bb-4a5a-482c-bd21-409cd27cddba",
   "metadata": {},
   "outputs": [
    {
     "name": "stdout",
     "output_type": "stream",
     "text": [
      "      A\n",
      "B      \n",
      "a  10.0\n",
      "b  20.0\n",
      "c  30.0\n",
      "d  40.0\n",
      "e  50.0\n",
      "f  60.0\n",
      "g  70.0\n"
     ]
    }
   ],
   "source": [
    "import pandas as pd\n",
    "\n",
    "# example DataFrame\n",
    "data = {'A': [10,20,30,40,50,60,70],\n",
    "        'B': ['a','b','c','d','e','f','g']}\n",
    "df = pd.DataFrame(data)\n",
    "\n",
    "# group by column 'B' and calculate the mean of each group\n",
    "grouped_df = df.groupby('B').mean()\n",
    "print(grouped_df)"
   ]
  },
  {
   "cell_type": "markdown",
   "id": "db5803db-1ae0-4733-96d3-b76d3fff8b62",
   "metadata": {},
   "source": [
    "## Combining Filtering and Grouping"
   ]
  },
  {
   "cell_type": "code",
   "execution_count": 22,
   "id": "41fee3cd-7caa-4cc1-9aab-97d70419a666",
   "metadata": {},
   "outputs": [
    {
     "name": "stdout",
     "output_type": "stream",
     "text": [
      "      A\n",
      "B      \n",
      "c  30.0\n",
      "d  40.0\n",
      "e  50.0\n",
      "f  60.0\n",
      "g  70.0\n"
     ]
    }
   ],
   "source": [
    "# filtering rows where column 'A' is greater than 20\n",
    "filtered_df = df[df['A'] > 20]\n",
    "\n",
    "# group by column 'B' and calculate the mean of each group\n",
    "grouped_df = filtered_df.groupby('B').mean()\n",
    "print(grouped_df)"
   ]
  },
  {
   "cell_type": "markdown",
   "id": "fd9f203f-2dc2-41f7-b628-9311c76e0a2a",
   "metadata": {},
   "source": [
    "## Practical Example"
   ]
  },
  {
   "cell_type": "raw",
   "id": "8ab2e127-f8da-4d2d-9d4b-78e0afb98978",
   "metadata": {},
   "source": [
    "You have a DataFrame sales_data with columns 'Product', 'Month', and 'Sales'.\n",
    "You want to filter for a specific product and then group by month to get the total sales for each month"
   ]
  },
  {
   "cell_type": "code",
   "execution_count": 28,
   "id": "7e27bf2a-c4e0-4d4f-99ac-a30b09469c0c",
   "metadata": {},
   "outputs": [
    {
     "name": "stdout",
     "output_type": "stream",
     "text": [
      "  Product Month  Sales\n",
      "2       B   Jan    200\n",
      "3       B   Feb    250\n",
      "5       B   Mar    350\n",
      "\n",
      "\n",
      "       Sales Product\n",
      "Month               \n",
      "Feb      250       B\n",
      "Jan      200       B\n",
      "Mar      350       B\n"
     ]
    }
   ],
   "source": [
    "# Example sales_data DataFrame\n",
    "data = {'Product': ['A', 'A', 'B', 'B', 'A', 'B', 'A'],\n",
    "        'Month': ['Jan', 'Feb', 'Jan', 'Feb', 'Mar', 'Mar', 'Mar'],\n",
    "        'Sales': [100, 150, 200, 250, 300, 350, 400]}\n",
    "sales_df = pd.DataFrame(data)\n",
    "\n",
    "# Filter for Product 'A'\n",
    "filtered_Sales = sales_df[sales_df['Product'] == 'B']\n",
    "print(filtered_Sales)\n",
    "print('\\n')\n",
    "\n",
    "# Group by Month and calculate total Sales for each Month\n",
    "grouped_Sales = filtered_Sales.groupby('Month')[['Sales','Product']].sum()\n",
    "print(grouped_Sales)\n"
   ]
  },
  {
   "cell_type": "code",
   "execution_count": null,
   "id": "4cf96ba6-4b6a-4bce-ac58-fbb9f3cf71a5",
   "metadata": {},
   "outputs": [],
   "source": []
  }
 ],
 "metadata": {
  "kernelspec": {
   "display_name": "Python 3 (ipykernel)",
   "language": "python",
   "name": "python3"
  },
  "language_info": {
   "codemirror_mode": {
    "name": "ipython",
    "version": 3
   },
   "file_extension": ".py",
   "mimetype": "text/x-python",
   "name": "python",
   "nbconvert_exporter": "python",
   "pygments_lexer": "ipython3",
   "version": "3.12.7"
  }
 },
 "nbformat": 4,
 "nbformat_minor": 5
}
